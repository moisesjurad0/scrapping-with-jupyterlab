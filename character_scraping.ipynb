{
 "cells": [
  {
   "cell_type": "markdown",
   "id": "1332181f-7042-4ae4-b19e-077effb7cfc1",
   "metadata": {},
   "source": [
    "# the imports (tittle in markdown)"
   ]
  },
  {
   "cell_type": "code",
   "execution_count": 1,
   "id": "c3c5e84e-fe3d-45cb-913f-05d5c1cb67be",
   "metadata": {},
   "outputs": [],
   "source": [
    "import pandas as pd\n",
    "import time\n",
    "from selenium import webdriver\n",
    "from webdriver_manager.chrome import ChromeDriverManager\n",
    "from selenium.webdriver.chrome.service import Service"
   ]
  },
  {
   "cell_type": "markdown",
   "id": "78a21c87-6dc7-4f73-bff3-4c574c2e64b1",
   "metadata": {},
   "source": [
    "## Create Driver"
   ]
  },
  {
   "cell_type": "code",
   "execution_count": 2,
   "id": "14e127b7-0aee-481e-8179-efc65ff57a2a",
   "metadata": {},
   "outputs": [],
   "source": [
    "# driver = webdriver.Chrome(ChromeDriverManager().install())"
   ]
  },
  {
   "cell_type": "code",
   "execution_count": 3,
   "id": "bcc86cfc-5952-45ee-8468-43364d509612",
   "metadata": {},
   "outputs": [],
   "source": [
    "options = webdriver.ChromeOptions()\n",
    "options.add_argument(\"start-maximized\")\n",
    "\n",
    "driver = webdriver.Chrome(\n",
    "    service=Service(ChromeDriverManager().install()),\n",
    "    options=options\n",
    ")\n"
   ]
  },
  {
   "cell_type": "markdown",
   "id": "91bff9d4-9eaf-495a-9b9b-825721477424",
   "metadata": {},
   "source": [
    "## Open URL"
   ]
  },
  {
   "cell_type": "code",
   "execution_count": 4,
   "id": "5a2dfde9-f408-4e56-9307-aac390194228",
   "metadata": {},
   "outputs": [
    {
     "ename": "InvalidArgumentException",
     "evalue": "Message: invalid argument\n  (Session info: chrome=114.0.5735.134)\nStacktrace:\nBacktrace:\n\tGetHandleVerifier [0x0103A813+48355]\n\t(No symbol) [0x00FCC4B1]\n\t(No symbol) [0x00ED5220]\n\t(No symbol) [0x00EC88E2]\n\t(No symbol) [0x00EC7138]\n\t(No symbol) [0x00EC7688]\n\t(No symbol) [0x00ED6B52]\n\t(No symbol) [0x00F2CF01]\n\t(No symbol) [0x00F1A73C]\n\t(No symbol) [0x00F2C922]\n\t(No symbol) [0x00F1A536]\n\t(No symbol) [0x00EF82DC]\n\t(No symbol) [0x00EF93DD]\n\tGetHandleVerifier [0x0129AABD+2539405]\n\tGetHandleVerifier [0x012DA78F+2800735]\n\tGetHandleVerifier [0x012D456C+2775612]\n\tGetHandleVerifier [0x010C51E0+616112]\n\t(No symbol) [0x00FD5F8C]\n\t(No symbol) [0x00FD2328]\n\t(No symbol) [0x00FD240B]\n\t(No symbol) [0x00FC4FF7]\n\tBaseThreadInitThunk [0x76F77D59+25]\n\tRtlInitializeExceptionChain [0x779CB74B+107]\n\tRtlClearBits [0x779CB6CF+191]\n",
     "output_type": "error",
     "traceback": [
      "\u001b[1;31m---------------------------------------------------------------------------\u001b[0m",
      "\u001b[1;31mInvalidArgumentException\u001b[0m                  Traceback (most recent call last)",
      "Cell \u001b[1;32mIn[4], line 1\u001b[0m\n\u001b[1;32m----> 1\u001b[0m \u001b[43mdriver\u001b[49m\u001b[38;5;241;43m.\u001b[39;49m\u001b[43mget\u001b[49m\u001b[43m(\u001b[49m\u001b[38;5;124;43m'\u001b[39;49m\u001b[38;5;124;43mgoogle.com\u001b[39;49m\u001b[38;5;124;43m'\u001b[39;49m\u001b[43m)\u001b[49m\n",
      "File \u001b[1;32mD:\\m01.repos\\github.1\\scrapping-with-jupyterlab\\venv\\lib\\site-packages\\selenium\\webdriver\\remote\\webdriver.py:355\u001b[0m, in \u001b[0;36mWebDriver.get\u001b[1;34m(self, url)\u001b[0m\n\u001b[0;32m    353\u001b[0m \u001b[38;5;28;01mdef\u001b[39;00m \u001b[38;5;21mget\u001b[39m(\u001b[38;5;28mself\u001b[39m, url: \u001b[38;5;28mstr\u001b[39m) \u001b[38;5;241m-\u001b[39m\u001b[38;5;241m>\u001b[39m \u001b[38;5;28;01mNone\u001b[39;00m:\n\u001b[0;32m    354\u001b[0m \u001b[38;5;250m    \u001b[39m\u001b[38;5;124;03m\"\"\"Loads a web page in the current browser session.\"\"\"\u001b[39;00m\n\u001b[1;32m--> 355\u001b[0m     \u001b[38;5;28;43mself\u001b[39;49m\u001b[38;5;241;43m.\u001b[39;49m\u001b[43mexecute\u001b[49m\u001b[43m(\u001b[49m\u001b[43mCommand\u001b[49m\u001b[38;5;241;43m.\u001b[39;49m\u001b[43mGET\u001b[49m\u001b[43m,\u001b[49m\u001b[43m \u001b[49m\u001b[43m{\u001b[49m\u001b[38;5;124;43m\"\u001b[39;49m\u001b[38;5;124;43murl\u001b[39;49m\u001b[38;5;124;43m\"\u001b[39;49m\u001b[43m:\u001b[49m\u001b[43m \u001b[49m\u001b[43murl\u001b[49m\u001b[43m}\u001b[49m\u001b[43m)\u001b[49m\n",
      "File \u001b[1;32mD:\\m01.repos\\github.1\\scrapping-with-jupyterlab\\venv\\lib\\site-packages\\selenium\\webdriver\\remote\\webdriver.py:346\u001b[0m, in \u001b[0;36mWebDriver.execute\u001b[1;34m(self, driver_command, params)\u001b[0m\n\u001b[0;32m    344\u001b[0m response \u001b[38;5;241m=\u001b[39m \u001b[38;5;28mself\u001b[39m\u001b[38;5;241m.\u001b[39mcommand_executor\u001b[38;5;241m.\u001b[39mexecute(driver_command, params)\n\u001b[0;32m    345\u001b[0m \u001b[38;5;28;01mif\u001b[39;00m response:\n\u001b[1;32m--> 346\u001b[0m     \u001b[38;5;28;43mself\u001b[39;49m\u001b[38;5;241;43m.\u001b[39;49m\u001b[43merror_handler\u001b[49m\u001b[38;5;241;43m.\u001b[39;49m\u001b[43mcheck_response\u001b[49m\u001b[43m(\u001b[49m\u001b[43mresponse\u001b[49m\u001b[43m)\u001b[49m\n\u001b[0;32m    347\u001b[0m     response[\u001b[38;5;124m\"\u001b[39m\u001b[38;5;124mvalue\u001b[39m\u001b[38;5;124m\"\u001b[39m] \u001b[38;5;241m=\u001b[39m \u001b[38;5;28mself\u001b[39m\u001b[38;5;241m.\u001b[39m_unwrap_value(response\u001b[38;5;241m.\u001b[39mget(\u001b[38;5;124m\"\u001b[39m\u001b[38;5;124mvalue\u001b[39m\u001b[38;5;124m\"\u001b[39m, \u001b[38;5;28;01mNone\u001b[39;00m))\n\u001b[0;32m    348\u001b[0m     \u001b[38;5;28;01mreturn\u001b[39;00m response\n",
      "File \u001b[1;32mD:\\m01.repos\\github.1\\scrapping-with-jupyterlab\\venv\\lib\\site-packages\\selenium\\webdriver\\remote\\errorhandler.py:245\u001b[0m, in \u001b[0;36mErrorHandler.check_response\u001b[1;34m(self, response)\u001b[0m\n\u001b[0;32m    243\u001b[0m         alert_text \u001b[38;5;241m=\u001b[39m value[\u001b[38;5;124m\"\u001b[39m\u001b[38;5;124malert\u001b[39m\u001b[38;5;124m\"\u001b[39m]\u001b[38;5;241m.\u001b[39mget(\u001b[38;5;124m\"\u001b[39m\u001b[38;5;124mtext\u001b[39m\u001b[38;5;124m\"\u001b[39m)\n\u001b[0;32m    244\u001b[0m     \u001b[38;5;28;01mraise\u001b[39;00m exception_class(message, screen, stacktrace, alert_text)  \u001b[38;5;66;03m# type: ignore[call-arg]  # mypy is not smart enough here\u001b[39;00m\n\u001b[1;32m--> 245\u001b[0m \u001b[38;5;28;01mraise\u001b[39;00m exception_class(message, screen, stacktrace)\n",
      "\u001b[1;31mInvalidArgumentException\u001b[0m: Message: invalid argument\n  (Session info: chrome=114.0.5735.134)\nStacktrace:\nBacktrace:\n\tGetHandleVerifier [0x0103A813+48355]\n\t(No symbol) [0x00FCC4B1]\n\t(No symbol) [0x00ED5220]\n\t(No symbol) [0x00EC88E2]\n\t(No symbol) [0x00EC7138]\n\t(No symbol) [0x00EC7688]\n\t(No symbol) [0x00ED6B52]\n\t(No symbol) [0x00F2CF01]\n\t(No symbol) [0x00F1A73C]\n\t(No symbol) [0x00F2C922]\n\t(No symbol) [0x00F1A536]\n\t(No symbol) [0x00EF82DC]\n\t(No symbol) [0x00EF93DD]\n\tGetHandleVerifier [0x0129AABD+2539405]\n\tGetHandleVerifier [0x012DA78F+2800735]\n\tGetHandleVerifier [0x012D456C+2775612]\n\tGetHandleVerifier [0x010C51E0+616112]\n\t(No symbol) [0x00FD5F8C]\n\t(No symbol) [0x00FD2328]\n\t(No symbol) [0x00FD240B]\n\t(No symbol) [0x00FC4FF7]\n\tBaseThreadInitThunk [0x76F77D59+25]\n\tRtlInitializeExceptionChain [0x779CB74B+107]\n\tRtlClearBits [0x779CB6CF+191]\n"
     ]
    }
   ],
   "source": [
    "driver.get('google.com')"
   ]
  },
  {
   "cell_type": "code",
   "execution_count": null,
   "id": "14843aa3-44c8-42d8-8581-619541a1a081",
   "metadata": {},
   "outputs": [],
   "source": []
  }
 ],
 "metadata": {
  "kernelspec": {
   "display_name": "Python 3 (ipykernel)",
   "language": "python",
   "name": "python3"
  },
  "language_info": {
   "codemirror_mode": {
    "name": "ipython",
    "version": 3
   },
   "file_extension": ".py",
   "mimetype": "text/x-python",
   "name": "python",
   "nbconvert_exporter": "python",
   "pygments_lexer": "ipython3",
   "version": "3.9.7"
  }
 },
 "nbformat": 4,
 "nbformat_minor": 5
}
